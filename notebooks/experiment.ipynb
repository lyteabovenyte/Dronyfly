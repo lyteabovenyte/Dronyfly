{
 "cells": [
  {
   "cell_type": "markdown",
   "id": "e09fdfe3",
   "metadata": {},
   "source": [
    "### Experimenting AI-THOR dataset and API"
   ]
  },
  {
   "cell_type": "code",
   "execution_count": null,
   "id": "21d3ec92",
   "metadata": {},
   "outputs": [
    {
     "ename": "",
     "evalue": "",
     "output_type": "error",
     "traceback": [
      "\u001b[1;31mFailed to start the Kernel. \n",
      "\u001b[1;31mRuntimeError: Could not determine home directory. \n",
      "\u001b[1;31mView Jupyter <a href='command:jupyter.viewOutput'>log</a> for further details."
     ]
    }
   ],
   "source": [
    "from ai2thor.controller import Controller\n",
    "controller = Controller()\n",
    "event = controller.step('MoveAhead')"
   ]
  },
  {
   "cell_type": "code",
   "execution_count": null,
   "id": "526ec94f",
   "metadata": {},
   "outputs": [],
   "source": [
    "import os\n",
    "import uuid\n",
    "import numpy as np\n",
    "from PIL import Image\n",
    "import ai2thor.controller\n",
    "\n",
    "\n",
    "# Output directories\n",
    "OUTPUT_DIR = \"../../data/raw\"\n",
    "RGB_DIR = os.path.join(OUTPUT_DIR, \"rgb\")\n",
    "DEPTH_DIR = os.path.join(OUTPUT_DIR, \"depth\")\n",
    "INST_DIR = os.path.join(OUTPUT_DIR, \"instance\")\n",
    "os.makedirs(RGB_DIR, exist_ok=True)\n",
    "os.makedirs(DEPTH_DIR, exist_ok=True)\n",
    "os.makedirs(INST_DIR, exist_ok=True)\n",
    "\n",
    "# Initialize AI2-THOR controller with only one specific scene\n",
    "controller = ai2thor.controller.Controller(\n",
    "    scene=\"FloorPlan1\",  # Only load one scene to avoid bulk downloads\n",
    "    agentMode=\"default\",\n",
    "    visibilityDistance=1.5,\n",
    "    gridSize=0.25,\n",
    "    rotateStepDegrees=90,\n",
    "    width=300,\n",
    "    height=300,\n",
    "    fieldOfView=90,\n",
    "    renderDepthImage=True,\n",
    "    renderInstanceSegmentation=True\n",
    ")\n",
    "\n",
    "# Define simple movement actions\n",
    "actions = [\n",
    "    {\"action\": \"MoveAhead\"},\n",
    "    {\"action\": \"RotateRight\"},\n",
    "    {\"action\": \"MoveAhead\"},\n",
    "    {\"action\": \"RotateLeft\"},\n",
    "    {\"action\": \"MoveAhead\"}\n",
    "]\n",
    "\n",
    "# Perform actions and collect visual data\n",
    "for step, act in enumerate(actions):\n",
    "    event = controller.step(act)\n",
    "\n",
    "    # Save RGB image\n",
    "    rgb = Image.fromarray(event.frame)\n",
    "    rgb.save(os.path.join(RGB_DIR, f\"rgb_{step}.png\"))\n",
    "\n",
    "    # Save Depth image (normalized for viewing)\n",
    "    depth = event.depth_frame\n",
    "    depth_normalized = (depth / np.max(depth) * 255).astype(np.uint8)\n",
    "    Image.fromarray(depth_normalized).save(os.path.join(DEPTH_DIR, f\"depth_{step}.png\"))\n",
    "\n",
    "    # Save instance segmentation frame\n",
    "    inst = event.instance_segmentation_frame\n",
    "    Image.fromarray(inst).save(os.path.join(INST_DIR, f\"inst_{step}.png\"))\n",
    "\n",
    "    print(f\"[{step}] Captured RGB, Depth, and Instance images.\")\n",
    "\n",
    "controller.stop()\n",
    "print(\"✅ Finished data collection from FloorPlan1.\")"
   ]
  },
  {
   "cell_type": "code",
   "execution_count": null,
   "id": "207a8e30",
   "metadata": {},
   "outputs": [],
   "source": [
    "# code to convert to point-clouds\n",
    "import numpy as np\n",
    "import open3d as o3d\n",
    "\n",
    "def depth_to_point_cloud(depth, rgb, fov=90):\n",
    "    \"\"\"\n",
    "    Converts a depth map and RGB image to a point cloud using pinhole camera model.\n",
    "    Assumes depth is in meters and RGB is (H, W, 3).\n",
    "    \"\"\"\n",
    "    h, w = depth.shape\n",
    "    fx = fy = 0.5 * w / np.tan(0.5 * np.radians(fov))\n",
    "    cx, cy = w / 2, h / 2\n",
    "\n",
    "    # Generate pixel grid\n",
    "    i, j = np.meshgrid(np.arange(w), np.arange(h), indexing='xy')\n",
    "    z = depth\n",
    "    x = (i - cx) * z / fx\n",
    "    y = (j - cy) * z / fy\n",
    "\n",
    "    xyz = np.stack((x, y, z), axis=-1).reshape(-1, 3)\n",
    "    rgb_flat = rgb.reshape(-1, 3) / 255.0\n",
    "\n",
    "    # Create Open3D point cloud\n",
    "    pcd = o3d.geometry.PointCloud()\n",
    "    pcd.points = o3d.utility.Vector3dVector(xyz)\n",
    "    pcd.colors = o3d.utility.Vector3dVector(rgb_flat)\n",
    "    return pcd"
   ]
  },
  {
   "cell_type": "code",
   "execution_count": null,
   "id": "af794103",
   "metadata": {},
   "outputs": [
    {
     "ename": "NameError",
     "evalue": "name 'os' is not defined",
     "output_type": "error",
     "traceback": [
      "\u001b[31m---------------------------------------------------------------------------\u001b[39m",
      "\u001b[31mNameError\u001b[39m                                 Traceback (most recent call last)",
      "\u001b[36mCell\u001b[39m\u001b[36m \u001b[39m\u001b[32mIn[1]\u001b[39m\u001b[32m, line 6\u001b[39m\n\u001b[32m      2\u001b[39m pcd = ...\n\u001b[32m      5\u001b[39m \u001b[38;5;66;03m# save point-cloud to .ply\u001b[39;00m\n\u001b[32m----> \u001b[39m\u001b[32m6\u001b[39m POINT_CLOUD_DIR = \u001b[43mos\u001b[49m.path.join(\u001b[33m\"\u001b[39m\u001b[33mHOME\u001b[39m\u001b[33m\"\u001b[39m, )\n\u001b[32m      7\u001b[39m o3d.io.write_point_cloud(\u001b[33m\"\u001b[39m\u001b[33mcloud.ply\u001b[39m\u001b[33m\"\u001b[39m, pcd)\n",
      "\u001b[31mNameError\u001b[39m: name 'os' is not defined"
     ]
    }
   ],
   "source": [
    "# TODO: first load the depth and rgb images and convert them to point-clouds\n",
    "pcd = ...\n",
    "\n",
    "\n",
    "# save point-cloud to .ply\n",
    "POINT_CLOUD_DIR = os.path.join(\"HOME\", \"data\", \"point_clouds\")\n",
    "os.makedirs(POINT_CLOUD_DIR, exist_ok=True)\n",
    "o3d.io.write_point_cloud(\"cloud.ply\", pcd)"
   ]
  },
  {
   "cell_type": "code",
   "execution_count": null,
   "id": "a01876ef",
   "metadata": {},
   "outputs": [],
   "source": []
  }
 ],
 "metadata": {
  "kernelspec": {
   "display_name": "venv",
   "language": "python",
   "name": "python3"
  },
  "language_info": {
   "codemirror_mode": {
    "name": "ipython",
    "version": 3
   },
   "file_extension": ".py",
   "mimetype": "text/x-python",
   "name": "python",
   "nbconvert_exporter": "python",
   "pygments_lexer": "ipython3",
   "version": "3.12.7"
  }
 },
 "nbformat": 4,
 "nbformat_minor": 5
}
